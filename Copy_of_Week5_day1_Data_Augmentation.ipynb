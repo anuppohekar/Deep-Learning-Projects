{
  "nbformat": 4,
  "nbformat_minor": 0,
  "metadata": {
    "colab": {
      "name": "Copy of Week5_day1_Data_Augmentation.ipynb",
      "private_outputs": true,
      "provenance": [],
      "collapsed_sections": [
        "4Ee4jdtpJNmd",
        "82FYK7mkOudC",
        "5uSVQT1HSoke"
      ],
      "include_colab_link": true
    },
    "kernelspec": {
      "name": "python3",
      "display_name": "Python 3"
    },
    "accelerator": "GPU"
  },
  "cells": [
    {
      "cell_type": "markdown",
      "metadata": {
        "id": "view-in-github",
        "colab_type": "text"
      },
      "source": [
        "<a href=\"https://colab.research.google.com/github/anuppohekar/Deep-Learning-Projects/blob/main/Copy_of_Week5_day1_Data_Augmentation.ipynb\" target=\"_parent\"><img src=\"https://colab.research.google.com/assets/colab-badge.svg\" alt=\"Open In Colab\"/></a>"
      ]
    },
    {
      "cell_type": "code",
      "metadata": {
        "id": "XPhdeTwdyzGE"
      },
      "source": [
        "# Ignore  the warnings\r\n",
        "import warnings\r\n",
        "warnings.filterwarnings('always')\r\n",
        "warnings.filterwarnings('ignore')\r\n",
        "\r\n",
        "# data visualisation and manipulation\r\n",
        "import numpy as np\r\n",
        "import pandas as pd\r\n",
        "import matplotlib.pyplot as plt\r\n",
        "from matplotlib import style\r\n",
        "import seaborn as sns\r\n",
        " \r\n",
        "#configure\r\n",
        "# sets matplotlib to inline and displays graphs below the corressponding cell.\r\n",
        "%matplotlib inline  \r\n",
        "style.use('fivethirtyeight')\r\n",
        "sns.set(style='whitegrid',color_codes=True)\r\n",
        "\r\n",
        "#model selection\r\n",
        "from sklearn.model_selection import train_test_split\r\n",
        "from sklearn.model_selection import KFold\r\n",
        "from sklearn.metrics import accuracy_score,precision_score,recall_score,confusion_matrix,roc_curve,roc_auc_score\r\n",
        "from sklearn.model_selection import GridSearchCV\r\n",
        "from sklearn.preprocessing import LabelEncoder\r\n",
        "\r\n",
        "#preprocess.\r\n",
        "from keras.preprocessing.image import ImageDataGenerator\r\n",
        "\r\n",
        "#dl libraraies\r\n",
        "from keras import backend as K\r\n",
        "from keras.models import Sequential\r\n",
        "from keras.layers import Dense\r\n",
        "from keras.optimizers import Adam,SGD,Adagrad,Adadelta,RMSprop\r\n",
        "from keras.utils import to_categorical\r\n",
        "\r\n",
        "# specifically for cnn\r\n",
        "from keras.layers import Dropout, Flatten,Activation\r\n",
        "from keras.layers import Conv2D, MaxPooling2D, BatchNormalization\r\n",
        " \r\n",
        "import tensorflow as tf\r\n",
        "import random as rn\r\n",
        "\r\n",
        "# specifically for manipulating zipped images and getting numpy arrays of pixel values of images.\r\n",
        "import cv2                  \r\n",
        "import numpy as np  \r\n",
        "from tqdm import tqdm\r\n",
        "import os                   \r\n",
        "from random import shuffle  \r\n",
        "from zipfile import ZipFile\r\n",
        "from PIL import Image"
      ],
      "execution_count": null,
      "outputs": []
    },
    {
      "cell_type": "markdown",
      "metadata": {
        "id": "drKdUi7EDvJE"
      },
      "source": [
        "#Dataset"
      ]
    },
    {
      "cell_type": "code",
      "metadata": {
        "id": "bBCP9R1ADwUD"
      },
      "source": [
        "!wget http://upscfever.com/datasets/flowers-new.zip"
      ],
      "execution_count": null,
      "outputs": []
    },
    {
      "cell_type": "code",
      "metadata": {
        "id": "vh3a9i0FD15s"
      },
      "source": [
        "!unzip flowers-new.zip"
      ],
      "execution_count": null,
      "outputs": []
    },
    {
      "cell_type": "code",
      "metadata": {
        "id": "bIk4oKb_E7pE"
      },
      "source": [
        "!unzip Pictures.zip"
      ],
      "execution_count": null,
      "outputs": []
    },
    {
      "cell_type": "markdown",
      "metadata": {
        "id": "ZcX16ugdFK6T"
      },
      "source": [
        "#Read into numpy array"
      ]
    },
    {
      "cell_type": "code",
      "metadata": {
        "id": "LKfBJkDKFM59"
      },
      "source": [
        "X = []\r\n",
        "y = []"
      ],
      "execution_count": null,
      "outputs": []
    },
    {
      "cell_type": "code",
      "metadata": {
        "id": "gIbxyoD_HmrL"
      },
      "source": [
        "len(X)"
      ],
      "execution_count": null,
      "outputs": []
    },
    {
      "cell_type": "code",
      "metadata": {
        "id": "0xjchmYVHo-f"
      },
      "source": [
        "len(y)"
      ],
      "execution_count": null,
      "outputs": []
    },
    {
      "cell_type": "code",
      "metadata": {
        "id": "HKYeBUQAFnZG"
      },
      "source": [
        "#read filenames at path\r\n",
        "path = '/content/flowers/daisy'\r\n",
        "for img in tqdm(os.listdir(path)):\r\n",
        "  #combine path and filename\r\n",
        "  filepath = os.path.join(path,img)\r\n",
        "  #reading color images\r\n",
        "  flower = cv2.imread(filepath, cv2.IMREAD_COLOR)\r\n",
        "  #convert images to uniform size\r\n",
        "  flower_resize = cv2.resize(flower, (150,150))\r\n",
        "  #adding flower as numpy array to X\r\n",
        "  X.append(np.array(flower_resize))\r\n",
        "  #adding label to y\r\n",
        "  y.append('daisy') \r\n",
        " "
      ],
      "execution_count": null,
      "outputs": []
    },
    {
      "cell_type": "code",
      "metadata": {
        "id": "Tt7P0KMuIRLP"
      },
      "source": [
        "len(X)"
      ],
      "execution_count": null,
      "outputs": []
    },
    {
      "cell_type": "code",
      "metadata": {
        "id": "iHYZXWrEIU2G"
      },
      "source": [
        "len(y)"
      ],
      "execution_count": null,
      "outputs": []
    },
    {
      "cell_type": "code",
      "metadata": {
        "id": "9wM69IXsIer4"
      },
      "source": [
        "#read filenames at path\r\n",
        "path = '/content/flowers/dandelion'\r\n",
        "for img in tqdm(os.listdir(path)):\r\n",
        "  #combine path and filename\r\n",
        "  filepath = os.path.join(path,img)\r\n",
        "  #reading color images\r\n",
        "  flower = cv2.imread(filepath, cv2.IMREAD_COLOR)\r\n",
        "  #convert images to uniform size\r\n",
        "  flower_resize = cv2.resize(flower, (150,150))\r\n",
        "  #adding flower as numpy array to X\r\n",
        "  X.append(np.array(flower_resize))\r\n",
        "  #adding label to y\r\n",
        "  y.append('dandelion') "
      ],
      "execution_count": null,
      "outputs": []
    },
    {
      "cell_type": "code",
      "metadata": {
        "id": "Uz_F3TD2InCB"
      },
      "source": [
        "#read filenames at path\r\n",
        "path = '/content/flowers/rose'\r\n",
        "for img in tqdm(os.listdir(path)):\r\n",
        "  #combine path and filename\r\n",
        "  filepath = os.path.join(path,img)\r\n",
        "  #reading color images\r\n",
        "  flower = cv2.imread(filepath, cv2.IMREAD_COLOR)\r\n",
        "  #convert images to uniform size\r\n",
        "  flower_resize = cv2.resize(flower, (150,150))\r\n",
        "  #adding flower as numpy array to X\r\n",
        "  X.append(np.array(flower_resize))\r\n",
        "  #adding label to y\r\n",
        "  y.append('rose') "
      ],
      "execution_count": null,
      "outputs": []
    },
    {
      "cell_type": "code",
      "metadata": {
        "id": "4qTWVZ7iIrZn"
      },
      "source": [
        "#read filenames at path\r\n",
        "path = '/content/flowers/sunflower'\r\n",
        "for img in tqdm(os.listdir(path)):\r\n",
        "  #combine path and filename\r\n",
        "  filepath = os.path.join(path,img)\r\n",
        "  #reading color images\r\n",
        "  flower = cv2.imread(filepath, cv2.IMREAD_COLOR)\r\n",
        "  #convert images to uniform size\r\n",
        "  flower_resize = cv2.resize(flower, (150,150))\r\n",
        "  #adding flower as numpy array to X\r\n",
        "  X.append(np.array(flower_resize))\r\n",
        "  #adding label to y\r\n",
        "  y.append('sunflower') "
      ],
      "execution_count": null,
      "outputs": []
    },
    {
      "cell_type": "code",
      "metadata": {
        "id": "YN1VyNklIu5B"
      },
      "source": [
        "#read filenames at path\r\n",
        "path = '/content/flowers/tulip'\r\n",
        "for img in tqdm(os.listdir(path)):\r\n",
        "  #combine path and filename\r\n",
        "  filepath = os.path.join(path,img)\r\n",
        "  #reading color images\r\n",
        "  flower = cv2.imread(filepath, cv2.IMREAD_COLOR)\r\n",
        "  #convert images to uniform size\r\n",
        "  flower_resize = cv2.resize(flower, (150,150))\r\n",
        "  #adding flower as numpy array to X\r\n",
        "  X.append(np.array(flower_resize))\r\n",
        "  #adding label to y\r\n",
        "  y.append('tulip') "
      ],
      "execution_count": null,
      "outputs": []
    },
    {
      "cell_type": "code",
      "metadata": {
        "id": "vsV_HrLgIyeO"
      },
      "source": [
        "len(X)"
      ],
      "execution_count": null,
      "outputs": []
    },
    {
      "cell_type": "code",
      "metadata": {
        "id": "jFTQqIrxI0cA"
      },
      "source": [
        "len(y)"
      ],
      "execution_count": null,
      "outputs": []
    },
    {
      "cell_type": "code",
      "metadata": {
        "id": "IPkamRGHJCzy"
      },
      "source": [
        "plt.imshow(X[116])"
      ],
      "execution_count": null,
      "outputs": []
    },
    {
      "cell_type": "markdown",
      "metadata": {
        "id": "4Ee4jdtpJNmd"
      },
      "source": [
        "#Standardize, Reshape, Split, One hot encode y"
      ]
    },
    {
      "cell_type": "code",
      "metadata": {
        "id": "sWWeB_HkJwGw"
      },
      "source": [
        "X[0]"
      ],
      "execution_count": null,
      "outputs": []
    },
    {
      "cell_type": "code",
      "metadata": {
        "id": "9r336ztpJNKQ"
      },
      "source": [
        "X = np.array(X)\r\n",
        "\r\n",
        "X = X/255.0\r\n",
        "\r\n",
        "#OLD dimension = 117,150,150,3\r\n",
        "#NEW dimension - 117,150*150*3\r\n",
        "\r\n",
        "X = X.reshape(117,150*150*3)"
      ],
      "execution_count": null,
      "outputs": []
    },
    {
      "cell_type": "code",
      "metadata": {
        "id": "p1dGODm-LGmL"
      },
      "source": [
        "X.shape"
      ],
      "execution_count": null,
      "outputs": []
    },
    {
      "cell_type": "code",
      "metadata": {
        "id": "VWVfKGt7LPj1"
      },
      "source": [
        "le = LabelEncoder()\r\n",
        "y = le.fit_transform(y)\r\n",
        "y = to_categorical(y, 5)"
      ],
      "execution_count": null,
      "outputs": []
    },
    {
      "cell_type": "code",
      "metadata": {
        "id": "J5iCxBXTL19u"
      },
      "source": [
        "X_train, X_test, y_train, y_test = train_test_split(X, y, test_size=0.2)"
      ],
      "execution_count": null,
      "outputs": []
    },
    {
      "cell_type": "code",
      "metadata": {
        "id": "nXRTz4TRL-Wi"
      },
      "source": [
        "model = Sequential()\r\n",
        "model.add(Dense(units=10000, activation='relu', input_dim=67500))\r\n",
        "model.add(Dense(units=5, activation='softmax'))\r\n",
        "model.compile(loss='categorical_crossentropy', optimizer='adam', metrics=['accuracy'])"
      ],
      "execution_count": null,
      "outputs": []
    },
    {
      "cell_type": "code",
      "metadata": {
        "id": "BAos5ejrNCx6"
      },
      "source": [
        "from keras.callbacks import EarlyStopping, ModelCheckpoint, ReduceLROnPlateau\r\n",
        "es = EarlyStopping(monitor='val_loss', min_delta=0, patience=10, verbose=1)\r\n",
        "filepath='bestweights.h5'\r\n",
        "mc = ModelCheckpoint(filepath, monitor='val_loss', verbose=1, save_best_only=True)\r\n",
        "rd = ReduceLROnPlateau(monitor='val_loss', factor=0.1, patience=5, verbose=1, mode='auto')"
      ],
      "execution_count": null,
      "outputs": []
    },
    {
      "cell_type": "code",
      "metadata": {
        "id": "AyR1cXtjNlIf"
      },
      "source": [
        "model.fit(x=X_train, y=y_train, epochs=10, validation_split=0.2)"
      ],
      "execution_count": null,
      "outputs": []
    },
    {
      "cell_type": "markdown",
      "metadata": {
        "id": "82FYK7mkOudC"
      },
      "source": [
        "#Data augmentation"
      ]
    },
    {
      "cell_type": "code",
      "metadata": {
        "id": "NPb52S5uOwB7"
      },
      "source": [
        "from keras.preprocessing.image import ImageDataGenerator\r\n",
        "\r\n",
        "datagen = ImageDataGenerator(rotation_range=180, \r\n",
        "                             width_shift_range=0.4, \r\n",
        "                             height_shift_range=0.4, \r\n",
        "                             brightness_range=[0.0,0.2], \r\n",
        "                             shear_range=0.6, \r\n",
        "                             zoom_range=0.4, \r\n",
        "                             horizontal_flip=True, \r\n",
        "                             vertical_flip=True)\r\n",
        "\r\n",
        "path = '/content/flowers/daisy'\r\n",
        "\r\n",
        "for img in tqdm(os.listdir(path)):\r\n",
        "  #combine path and filename\r\n",
        "  filepath = os.path.join(path,img)\r\n",
        "  #reading color images\r\n",
        "  flower = cv2.imread(filepath, cv2.IMREAD_COLOR)\r\n",
        "  #convert images to uniform size\r\n",
        "  flower_resize = cv2.resize(flower, (150,150))\r\n",
        "  #Add dimension - Number of images, width, height, channels\r\n",
        "  flower_resize = flower_resize.reshape(1,150,150,3)\r\n",
        " \r\n",
        "  for i, j in enumerate((datagen.flow(flower_resize, batch_size=1, save_to_dir=path, save_format='jpg'))):\r\n",
        "    if i == 30:\r\n",
        "      break"
      ],
      "execution_count": null,
      "outputs": []
    },
    {
      "cell_type": "code",
      "metadata": {
        "id": "k8tIdGQYSRSW"
      },
      "source": [
        "from keras.preprocessing.image import ImageDataGenerator\r\n",
        "\r\n",
        "datagen = ImageDataGenerator(rotation_range=180, \r\n",
        "                             width_shift_range=0.4, \r\n",
        "                             height_shift_range=0.4, \r\n",
        "                             brightness_range=[0.0,0.2], \r\n",
        "                             shear_range=0.6, \r\n",
        "                             zoom_range=0.4, \r\n",
        "                             horizontal_flip=True, \r\n",
        "                             vertical_flip=True)\r\n",
        "\r\n",
        "path = '/content/flowers/dandelion'\r\n",
        "\r\n",
        "for img in tqdm(os.listdir(path)):\r\n",
        "  #combine path and filename\r\n",
        "  filepath = os.path.join(path,img)\r\n",
        "  #reading color images\r\n",
        "  flower = cv2.imread(filepath, cv2.IMREAD_COLOR)\r\n",
        "  #convert images to uniform size\r\n",
        "  flower_resize = cv2.resize(flower, (150,150))\r\n",
        "  #Add dimension - Number of images, width, height, channels\r\n",
        "  flower_resize = flower_resize.reshape(1,150,150,3)\r\n",
        " \r\n",
        "  for i, j in enumerate((datagen.flow(flower_resize, batch_size=1, save_to_dir=path, save_format='jpg'))):\r\n",
        "    if i == 30:\r\n",
        "      break"
      ],
      "execution_count": null,
      "outputs": []
    },
    {
      "cell_type": "code",
      "metadata": {
        "id": "18nFQ7DmSUcg"
      },
      "source": [
        "from keras.preprocessing.image import ImageDataGenerator\r\n",
        "\r\n",
        "datagen = ImageDataGenerator(rotation_range=180, \r\n",
        "                             width_shift_range=0.4, \r\n",
        "                             height_shift_range=0.4, \r\n",
        "                             brightness_range=[0.0,0.2], \r\n",
        "                             shear_range=0.6, \r\n",
        "                             zoom_range=0.4, \r\n",
        "                             horizontal_flip=True, \r\n",
        "                             vertical_flip=True)\r\n",
        "\r\n",
        "path = '/content/flowers/sunflower'\r\n",
        "\r\n",
        "for img in tqdm(os.listdir(path)):\r\n",
        "  #combine path and filename\r\n",
        "  filepath = os.path.join(path,img)\r\n",
        "  #reading color images\r\n",
        "  flower = cv2.imread(filepath, cv2.IMREAD_COLOR)\r\n",
        "  #convert images to uniform size\r\n",
        "  flower_resize = cv2.resize(flower, (150,150))\r\n",
        "  #Add dimension - Number of images, width, height, channels\r\n",
        "  flower_resize = flower_resize.reshape(1,150,150,3)\r\n",
        " \r\n",
        "  for i, j in enumerate((datagen.flow(flower_resize, batch_size=1, save_to_dir=path, save_format='jpg'))):\r\n",
        "    if i == 30:\r\n",
        "      break"
      ],
      "execution_count": null,
      "outputs": []
    },
    {
      "cell_type": "code",
      "metadata": {
        "id": "XkE6ROZoSWPQ"
      },
      "source": [
        "from keras.preprocessing.image import ImageDataGenerator\r\n",
        "\r\n",
        "datagen = ImageDataGenerator(rotation_range=180, \r\n",
        "                             width_shift_range=0.4, \r\n",
        "                             height_shift_range=0.4, \r\n",
        "                             brightness_range=[0.0,0.2], \r\n",
        "                             shear_range=0.6, \r\n",
        "                             zoom_range=0.4, \r\n",
        "                             horizontal_flip=True, \r\n",
        "                             vertical_flip=True)\r\n",
        "\r\n",
        "path = '/content/flowers/rose'\r\n",
        "\r\n",
        "for img in tqdm(os.listdir(path)):\r\n",
        "  #combine path and filename\r\n",
        "  filepath = os.path.join(path,img)\r\n",
        "  #reading color images\r\n",
        "  flower = cv2.imread(filepath, cv2.IMREAD_COLOR)\r\n",
        "  #convert images to uniform size\r\n",
        "  flower_resize = cv2.resize(flower, (150,150))\r\n",
        "  #Add dimension - Number of images, width, height, channels\r\n",
        "  flower_resize = flower_resize.reshape(1,150,150,3)\r\n",
        " \r\n",
        "  for i, j in enumerate((datagen.flow(flower_resize, batch_size=1, save_to_dir=path, save_format='jpg'))):\r\n",
        "    if i == 30:\r\n",
        "      break"
      ],
      "execution_count": null,
      "outputs": []
    },
    {
      "cell_type": "code",
      "metadata": {
        "id": "p8dcxAidSXkp"
      },
      "source": [
        "from keras.preprocessing.image import ImageDataGenerator\r\n",
        "\r\n",
        "datagen = ImageDataGenerator(rotation_range=180, \r\n",
        "                             width_shift_range=0.4, \r\n",
        "                             height_shift_range=0.4, \r\n",
        "                             brightness_range=[0.0,0.2], \r\n",
        "                             shear_range=0.6, \r\n",
        "                             zoom_range=0.4, \r\n",
        "                             horizontal_flip=True, \r\n",
        "                             vertical_flip=True)\r\n",
        "\r\n",
        "path = '/content/flowers/tulip'\r\n",
        "\r\n",
        "for img in tqdm(os.listdir(path)):\r\n",
        "  #combine path and filename\r\n",
        "  filepath = os.path.join(path,img)\r\n",
        "  #reading color images\r\n",
        "  flower = cv2.imread(filepath, cv2.IMREAD_COLOR)\r\n",
        "  #convert images to uniform size\r\n",
        "  flower_resize = cv2.resize(flower, (150,150))\r\n",
        "  #Add dimension - Number of images, width, height, channels\r\n",
        "  flower_resize = flower_resize.reshape(1,150,150,3)\r\n",
        " \r\n",
        "  for i, j in enumerate((datagen.flow(flower_resize, batch_size=1, save_to_dir=path, save_format='jpg'))):\r\n",
        "    if i == 30:\r\n",
        "      break"
      ],
      "execution_count": null,
      "outputs": []
    },
    {
      "cell_type": "markdown",
      "metadata": {
        "id": "5uSVQT1HSoke"
      },
      "source": [
        "#Read into numpy array"
      ]
    },
    {
      "cell_type": "code",
      "metadata": {
        "id": "WzvDsPRfSoki"
      },
      "source": [
        "X = []\r\n",
        "y = []"
      ],
      "execution_count": null,
      "outputs": []
    },
    {
      "cell_type": "code",
      "metadata": {
        "id": "-0yElShiSokl"
      },
      "source": [
        "len(X)"
      ],
      "execution_count": null,
      "outputs": []
    },
    {
      "cell_type": "code",
      "metadata": {
        "id": "RIqjEqOmSoko"
      },
      "source": [
        "len(y)"
      ],
      "execution_count": null,
      "outputs": []
    },
    {
      "cell_type": "code",
      "metadata": {
        "id": "bZAiiZp1Sokr"
      },
      "source": [
        "#read filenames at path\r\n",
        "path = '/content/flowers/daisy'\r\n",
        "for img in tqdm(os.listdir(path)):\r\n",
        "  #combine path and filename\r\n",
        "  filepath = os.path.join(path,img)\r\n",
        "  #reading color images\r\n",
        "  flower = cv2.imread(filepath, cv2.IMREAD_COLOR)\r\n",
        "  #convert images to uniform size\r\n",
        "  flower_resize = cv2.resize(flower, (150,150))\r\n",
        "  #adding flower as numpy array to X\r\n",
        "  X.append(np.array(flower_resize))\r\n",
        "  #adding label to y\r\n",
        "  y.append('daisy') \r\n",
        " "
      ],
      "execution_count": null,
      "outputs": []
    },
    {
      "cell_type": "code",
      "metadata": {
        "id": "r0IungvgSokt"
      },
      "source": [
        "len(X)"
      ],
      "execution_count": null,
      "outputs": []
    },
    {
      "cell_type": "code",
      "metadata": {
        "id": "8IA5F3sNSokv"
      },
      "source": [
        "len(y)"
      ],
      "execution_count": null,
      "outputs": []
    },
    {
      "cell_type": "code",
      "metadata": {
        "id": "Z2qpIP-fSokx"
      },
      "source": [
        "#read filenames at path\r\n",
        "path = '/content/flowers/dandelion'\r\n",
        "for img in tqdm(os.listdir(path)):\r\n",
        "  #combine path and filename\r\n",
        "  filepath = os.path.join(path,img)\r\n",
        "  #reading color images\r\n",
        "  flower = cv2.imread(filepath, cv2.IMREAD_COLOR)\r\n",
        "  #convert images to uniform size\r\n",
        "  flower_resize = cv2.resize(flower, (150,150))\r\n",
        "  #adding flower as numpy array to X\r\n",
        "  X.append(np.array(flower_resize))\r\n",
        "  #adding label to y\r\n",
        "  y.append('dandelion') "
      ],
      "execution_count": null,
      "outputs": []
    },
    {
      "cell_type": "code",
      "metadata": {
        "id": "p-v1xH5HSokz"
      },
      "source": [
        "#read filenames at path\r\n",
        "path = '/content/flowers/rose'\r\n",
        "for img in tqdm(os.listdir(path)):\r\n",
        "  #combine path and filename\r\n",
        "  filepath = os.path.join(path,img)\r\n",
        "  #reading color images\r\n",
        "  flower = cv2.imread(filepath, cv2.IMREAD_COLOR)\r\n",
        "  #convert images to uniform size\r\n",
        "  flower_resize = cv2.resize(flower, (150,150))\r\n",
        "  #adding flower as numpy array to X\r\n",
        "  X.append(np.array(flower_resize))\r\n",
        "  #adding label to y\r\n",
        "  y.append('rose') "
      ],
      "execution_count": null,
      "outputs": []
    },
    {
      "cell_type": "code",
      "metadata": {
        "id": "i3W3t4iVSok0"
      },
      "source": [
        "#read filenames at path\r\n",
        "path = '/content/flowers/sunflower'\r\n",
        "for img in tqdm(os.listdir(path)):\r\n",
        "  #combine path and filename\r\n",
        "  filepath = os.path.join(path,img)\r\n",
        "  #reading color images\r\n",
        "  flower = cv2.imread(filepath, cv2.IMREAD_COLOR)\r\n",
        "  #convert images to uniform size\r\n",
        "  flower_resize = cv2.resize(flower, (150,150))\r\n",
        "  #adding flower as numpy array to X\r\n",
        "  X.append(np.array(flower_resize))\r\n",
        "  #adding label to y\r\n",
        "  y.append('sunflower') "
      ],
      "execution_count": null,
      "outputs": []
    },
    {
      "cell_type": "code",
      "metadata": {
        "id": "lLEozWiiSok6"
      },
      "source": [
        "#read filenames at path\r\n",
        "path = '/content/flowers/tulip'\r\n",
        "for img in tqdm(os.listdir(path)):\r\n",
        "  #combine path and filename\r\n",
        "  filepath = os.path.join(path,img)\r\n",
        "  #reading color images\r\n",
        "  flower = cv2.imread(filepath, cv2.IMREAD_COLOR)\r\n",
        "  #convert images to uniform size\r\n",
        "  flower_resize = cv2.resize(flower, (150,150))\r\n",
        "  #adding flower as numpy array to X\r\n",
        "  X.append(np.array(flower_resize))\r\n",
        "  #adding label to y\r\n",
        "  y.append('tulip') "
      ],
      "execution_count": null,
      "outputs": []
    },
    {
      "cell_type": "code",
      "metadata": {
        "id": "rX_EsQAkSok9"
      },
      "source": [
        "len(X)"
      ],
      "execution_count": null,
      "outputs": []
    },
    {
      "cell_type": "code",
      "metadata": {
        "id": "c2sYnHXYSok-"
      },
      "source": [
        "len(y)"
      ],
      "execution_count": null,
      "outputs": []
    },
    {
      "cell_type": "markdown",
      "metadata": {
        "id": "DF5ZPRkbSolA"
      },
      "source": [
        "#Standardize, Reshape, Split, One hot encode y"
      ]
    },
    {
      "cell_type": "code",
      "metadata": {
        "id": "Ope4HDirSolC"
      },
      "source": [
        "X[0].shape"
      ],
      "execution_count": null,
      "outputs": []
    },
    {
      "cell_type": "code",
      "metadata": {
        "id": "RRxX8yTESolD"
      },
      "source": [
        "X = np.array(X)\r\n",
        "\r\n",
        "X = X/255.0"
      ],
      "execution_count": null,
      "outputs": []
    },
    {
      "cell_type": "code",
      "metadata": {
        "id": "UQPOdYzBS-m9"
      },
      "source": [
        "#OLD dimension = 3596,150,150,3\r\n",
        "#NEW dimension - 3596,150*150*3\r\n",
        "X = X.reshape(3596,150*150*3)"
      ],
      "execution_count": null,
      "outputs": []
    },
    {
      "cell_type": "code",
      "metadata": {
        "id": "Nwd99SsQSolE"
      },
      "source": [
        "X.shape"
      ],
      "execution_count": null,
      "outputs": []
    },
    {
      "cell_type": "code",
      "metadata": {
        "id": "njwJMCjJSolG"
      },
      "source": [
        "le = LabelEncoder()\r\n",
        "y = le.fit_transform(y)\r\n",
        "y = to_categorical(y, 5)"
      ],
      "execution_count": null,
      "outputs": []
    },
    {
      "cell_type": "code",
      "metadata": {
        "id": "qOpyOMSCSolG"
      },
      "source": [
        "X_train, X_test, y_train, y_test = train_test_split(X, y, test_size=0.2)"
      ],
      "execution_count": null,
      "outputs": []
    },
    {
      "cell_type": "code",
      "metadata": {
        "id": "1tLLYpXBSolH"
      },
      "source": [
        "model = Sequential()\r\n",
        "model.add(Dense(units=10000, activation='relu', input_dim=67500))\r\n",
        "model.add(Dense(units=5, activation='softmax'))\r\n",
        "model.compile(loss='categorical_crossentropy', optimizer='adam', metrics=['accuracy'])"
      ],
      "execution_count": null,
      "outputs": []
    },
    {
      "cell_type": "code",
      "metadata": {
        "id": "yHn-_NJWSolJ"
      },
      "source": [
        "from keras.callbacks import EarlyStopping, ModelCheckpoint, ReduceLROnPlateau\r\n",
        "es = EarlyStopping(monitor='val_loss', min_delta=0, patience=10, verbose=1)\r\n",
        "filepath='bestweights.h5'\r\n",
        "mc = ModelCheckpoint(filepath, monitor='val_loss', verbose=1, save_best_only=True)\r\n",
        "rd = ReduceLROnPlateau(monitor='val_loss', factor=0.1, patience=5, verbose=1, mode='auto')"
      ],
      "execution_count": null,
      "outputs": []
    },
    {
      "cell_type": "code",
      "metadata": {
        "id": "YXfc4-okSolK"
      },
      "source": [
        "model.fit(x=X_train, y=y_train, epochs=10, validation_split=0.2)"
      ],
      "execution_count": null,
      "outputs": []
    }
  ]
}