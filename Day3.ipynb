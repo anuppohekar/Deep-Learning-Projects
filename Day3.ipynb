{
  "nbformat": 4,
  "nbformat_minor": 0,
  "metadata": {
    "colab": {
      "name": "Day3.ipynb",
      "private_outputs": true,
      "provenance": [],
      "include_colab_link": true
    },
    "kernelspec": {
      "name": "python3",
      "display_name": "Python 3"
    }
  },
  "cells": [
    {
      "cell_type": "markdown",
      "metadata": {
        "id": "view-in-github",
        "colab_type": "text"
      },
      "source": [
        "<a href=\"https://colab.research.google.com/github/anuppohekar/Deep-Learning-Projects/blob/main/Day3.ipynb\" target=\"_parent\"><img src=\"https://colab.research.google.com/assets/colab-badge.svg\" alt=\"Open In Colab\"/></a>"
      ]
    },
    {
      "cell_type": "markdown",
      "metadata": {
        "id": "uskJUxvfx4l7"
      },
      "source": [
        "#Step 1 - load data"
      ]
    },
    {
      "cell_type": "code",
      "metadata": {
        "id": "j083JYT1MqBm"
      },
      "source": [
        "from keras.datasets import mnist\n",
        "\n",
        "#Load data\n",
        "(X_train, y_train), (X_test, y_test) = mnist.load_data()"
      ],
      "execution_count": null,
      "outputs": []
    },
    {
      "cell_type": "markdown",
      "metadata": {
        "id": "E63RF1Wlx9mX"
      },
      "source": [
        "#Step 2: Reshape and standardize"
      ]
    },
    {
      "cell_type": "code",
      "metadata": {
        "id": "N_hu6XKBVpYz"
      },
      "source": [
        "#60000 - 28*28*1 (Width * height * channel)\n",
        "#channels - 1 for black and white, 3 for color (RGB)\n",
        "#Each image a photo of a digit between 0-9\n",
        "#Classes-10 ; multiclass\n",
        "#train - 60000\n",
        "#test - 10000\n",
        "\n",
        "X_train = X_train.reshape((60000,28*28*1))\n",
        "X_test = X_test.reshape((10000,28*28*1))\n",
        "X_train = X_train/255.0\n",
        "X_test = X_test/255.0\n",
        "\n"
      ],
      "execution_count": null,
      "outputs": []
    },
    {
      "cell_type": "markdown",
      "metadata": {
        "id": "utWPSXytyDNC"
      },
      "source": [
        "#Step 3: one hot encode y"
      ]
    },
    {
      "cell_type": "code",
      "metadata": {
        "id": "5YefLImJXIdr"
      },
      "source": [
        "from keras.utils import to_categorical\n",
        "y_train = to_categorical(y_train, 10)\n",
        "y_test = to_categorical(y_test, 10)\n"
      ],
      "execution_count": null,
      "outputs": []
    },
    {
      "cell_type": "markdown",
      "metadata": {
        "id": "w_bQ0DYxYrrF"
      },
      "source": [
        "#Building network"
      ]
    },
    {
      "cell_type": "code",
      "metadata": {
        "id": "vYBzILg2YtY7"
      },
      "source": [
        "from keras.models import Sequential\n",
        "from keras.layers import Dense\n",
        "\n",
        "mnistnn = Sequential()\n",
        "mnistnn.add(Dense(units=512, activation='relu', input_dim=784))\n",
        "mnistnn.add(Dense(units=10, activation='softmax'))\n"
      ],
      "execution_count": null,
      "outputs": []
    },
    {
      "cell_type": "code",
      "metadata": {
        "id": "XWIVrBoXZQlG"
      },
      "source": [
        "mnistnn.compile(loss='categorical_crossentropy', metrics=['accuracy'], optimizer='adam')"
      ],
      "execution_count": null,
      "outputs": []
    },
    {
      "cell_type": "code",
      "metadata": {
        "id": "zDJGF0Kxdcug"
      },
      "source": [
        "#callbacks\n",
        "from keras.callbacks import ReduceLROnPlateau, EarlyStopping, ModelCheckpoint\n",
        "\n",
        "rd = ReduceLROnPlateau(monitor='val_loss', factor=0.1, patience=5, verbose=1, mode='auto')\n",
        "es = EarlyStopping(monitor='val_loss', patience=8, verbose=1, mode='auto')\n",
        "filepath = 'weight.{epoch:02d}.{val_loss:.2f}.h5'\n",
        "mc = ModelCheckpoint(filepath, monitor='val_loss', verbose=1, save_best_only=True, save_weights_only=False, mode='auto')"
      ],
      "execution_count": null,
      "outputs": []
    },
    {
      "cell_type": "code",
      "metadata": {
        "id": "brjY3WOnap-u"
      },
      "source": [
        "history = mnistnn.fit(x=X_train, y=y_train, epochs=10, validation_split=0.2, callbacks=[rd, es, mc])"
      ],
      "execution_count": null,
      "outputs": []
    },
    {
      "cell_type": "markdown",
      "metadata": {
        "id": "q7Kex0W5yKzq"
      },
      "source": [
        "#Step 5: Performance curves"
      ]
    },
    {
      "cell_type": "code",
      "metadata": {
        "id": "mEZJlb03bebs"
      },
      "source": [
        "import matplotlib.pyplot as plt\n",
        "plt.plot(history.history['accuracy'])\n",
        "plt.plot(history.history['val_accuracy'])\n",
        "plt.title('Performance curve')\n",
        "plt.xlabel('Epochs')\n",
        "plt.ylabel('Accuracy')\n",
        "plt.legend(['Train','Validation'])\n",
        "plt.show()"
      ],
      "execution_count": null,
      "outputs": []
    },
    {
      "cell_type": "code",
      "metadata": {
        "id": "gMphvTDEcCg0"
      },
      "source": [
        "import matplotlib.pyplot as plt\n",
        "plt.plot(history.history['loss'])\n",
        "plt.plot(history.history['val_loss'])\n",
        "plt.title('Performance curve')\n",
        "plt.xlabel('Epochs')\n",
        "plt.ylabel('Loss')\n",
        "plt.legend(['Train','Validation'])\n",
        "plt.show()"
      ],
      "execution_count": null,
      "outputs": []
    },
    {
      "cell_type": "markdown",
      "metadata": {
        "id": "TZ2wz1oeyPJy"
      },
      "source": [
        "#Step6: Evaluate"
      ]
    },
    {
      "cell_type": "code",
      "metadata": {
        "id": "Rb3zd6g4cRQI"
      },
      "source": [
        "mnistnn.evaluate(X_test, y_test)"
      ],
      "execution_count": null,
      "outputs": []
    },
    {
      "cell_type": "markdown",
      "metadata": {
        "id": "hzruLTNAc-rU"
      },
      "source": [
        "#Train acc = 0.9978\n",
        "#Val acc   = 0.9755\n",
        "#Test acc =  0.9781"
      ]
    },
    {
      "cell_type": "code",
      "metadata": {
        "id": "kGkOD4wQfpZS"
      },
      "source": [
        "from keras.models import load_model\n",
        "\n",
        "newmodel = load_model('/content/weight.03.0.08.h5')"
      ],
      "execution_count": null,
      "outputs": []
    },
    {
      "cell_type": "code",
      "metadata": {
        "id": "Wv2JTq0ufzzS"
      },
      "source": [
        "newmodel.evaluate(X_test, y_test)"
      ],
      "execution_count": null,
      "outputs": []
    },
    {
      "cell_type": "markdown",
      "metadata": {
        "id": "AIMaBPrjf_gx"
      },
      "source": [
        "#Train acc - 1\n",
        "#Val acc - 0.9812\n",
        "#Test acc - 0.9811"
      ]
    },
    {
      "cell_type": "markdown",
      "metadata": {
        "id": "-gIArY1ti88E"
      },
      "source": [
        "#Project"
      ]
    },
    {
      "cell_type": "code",
      "metadata": {
        "id": "eT558KNoixNI"
      },
      "source": [
        "!pip install flask-ngrok\n",
        "from flask_ngrok import run_with_ngrok\n",
        "from flask import Flask, request, render_template"
      ],
      "execution_count": null,
      "outputs": []
    },
    {
      "cell_type": "markdown",
      "metadata": {
        "id": "BVibUGtLj4El"
      },
      "source": [
        "#Website"
      ]
    },
    {
      "cell_type": "code",
      "metadata": {
        "id": "Lk_r3nVyjoqz"
      },
      "source": [
        "htmlpage = '''\n",
        "<html>\n",
        "<head>\n",
        "<title>My first Project</title>\n",
        "</head>\n",
        "\n",
        "<body>\n",
        "\n",
        "<form action=\"\" method=post enctype=multipart/form-data>\n",
        "<input type=file name=photo>\n",
        "<input type=submit value=upload>\n",
        "</form>\n",
        "\n",
        "{{label}}\n",
        "</body>\n",
        "\n",
        "</html>\n",
        "'''\n",
        "\n",
        "!mkdir '/content/templates'\n",
        "!mkdir '/content/uploads'\n"
      ],
      "execution_count": null,
      "outputs": []
    },
    {
      "cell_type": "markdown",
      "metadata": {
        "id": "boYaSUzhmDv3"
      },
      "source": [
        "#Integrate model with index.html"
      ]
    },
    {
      "cell_type": "code",
      "metadata": {
        "id": "Gh0W1Ub7pKE_"
      },
      "source": [
        "import os\n",
        "from keras.preprocessing import image\n",
        "from keras.preprocessing.image import load_img, img_to_array\n",
        "import numpy as np\n"
      ],
      "execution_count": null,
      "outputs": []
    },
    {
      "cell_type": "code",
      "metadata": {
        "id": "dVBZGIXFlmCq"
      },
      "source": [
        "#Give name\n",
        "app = Flask(__name__)\n",
        "run_with_ngrok(app)\n",
        "\n",
        "#Create homepage\n",
        "@app.route('/')\n",
        "def homepage():\n",
        "  return render_template('index.html')\n",
        "\n",
        "#Predictions\n",
        "@app.route('/', methods=['POST'])\n",
        "def predictions():\n",
        "  #Accept file from webpage\n",
        "  img = request.files['photo']\n",
        "  #save file \n",
        "  filepath=os.path.join('uploads',img.filename)\n",
        "  img.save(filepath)\n",
        "  #load file\n",
        "  img = image.load_img(filepath, target_size=(28,28), color_mode='grayscale')\n",
        "  #convert to numpy\n",
        "  img = img_to_array(img)\n",
        "  #reshape and standardize\n",
        "  img = img.reshape((1,784))\n",
        "  img = img/255.0\n",
        "  #predict\n",
        "  preds = newmodel.predict_classes(img)\n",
        "  return render_template('index.html', label=preds)\n",
        "\n",
        "\n",
        "#Execute app\n",
        "if __name__=='__main__':\n",
        "  app.run()"
      ],
      "execution_count": null,
      "outputs": []
    },
    {
      "cell_type": "markdown",
      "metadata": {
        "id": "9gDTaqVI2hCT"
      },
      "source": [
        "#flow_from_directory"
      ]
    }
  ]
}