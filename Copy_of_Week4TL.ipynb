{
  "nbformat": 4,
  "nbformat_minor": 0,
  "metadata": {
    "colab": {
      "name": "Copy of Week4TL.ipynb",
      "private_outputs": true,
      "provenance": [],
      "collapsed_sections": [
        "AVh5xggMNHxj",
        "Mw_DYUgTNzHP",
        "Rzk007fiONha",
        "Sd1CM8vVOhTR",
        "0UiBHwBYPUN4",
        "7oK9YNtdPt3g",
        "GnJE8E6jXDt9",
        "--eTc-8jXSO9",
        "ClEOZAj2Xlix",
        "8Z13Y1ntX4gH"
      ],
      "include_colab_link": true
    },
    "kernelspec": {
      "name": "python3",
      "display_name": "Python 3"
    }
  },
  "cells": [
    {
      "cell_type": "markdown",
      "metadata": {
        "id": "view-in-github",
        "colab_type": "text"
      },
      "source": [
        "<a href=\"https://colab.research.google.com/github/anuppohekar/Deep-Learning-Projects/blob/main/Copy_of_Week4TL.ipynb\" target=\"_parent\"><img src=\"https://colab.research.google.com/assets/colab-badge.svg\" alt=\"Open In Colab\"/></a>"
      ]
    },
    {
      "cell_type": "code",
      "metadata": {
        "id": "ueTtp8O22k31"
      },
      "source": [
        "!wget \"https://c402277.ssl.cf1.rackcdn.com/photos/11552/images/hero_small/rsz_namibia_will_burrard_lucas_wwf_us_1.jpg\" -P drive/app"
      ],
      "execution_count": null,
      "outputs": []
    },
    {
      "cell_type": "markdown",
      "metadata": {
        "id": "yFgHJE-qFXr0"
      },
      "source": [
        "#Transfer learning"
      ]
    },
    {
      "cell_type": "code",
      "metadata": {
        "id": "zCvVWAaZFZhv"
      },
      "source": [
        "from keras.applications.resnet50 import ResNet50\r\n",
        "from keras.preprocessing import image\r\n",
        "from keras.applications.resnet50 import preprocess_input, decode_predictions\r\n",
        "import numpy as np"
      ],
      "execution_count": null,
      "outputs": []
    },
    {
      "cell_type": "code",
      "metadata": {
        "id": "ycZN0blsF67C"
      },
      "source": [
        "model = ResNet50(weights='imagenet')"
      ],
      "execution_count": null,
      "outputs": []
    },
    {
      "cell_type": "code",
      "metadata": {
        "id": "0ZVv_HU5Gfwb"
      },
      "source": [
        "imagepath = '/content/drive/app/rsz_namibia_will_burrard_lucas_wwf_us_1.jpg'\r\n",
        "img = image.load_img(imagepath, target_size=(224,224))\r\n",
        "x = image.img_to_array(img)\r\n",
        "x = np.expand_dims(x, axis=0)\r\n",
        "x = preprocess_input(x)\r\n",
        "preds = model.predict(x)\r\n",
        "decode_predictions(preds)"
      ],
      "execution_count": null,
      "outputs": []
    },
    {
      "cell_type": "markdown",
      "metadata": {
        "id": "FxYg7RUtKXZO"
      },
      "source": [
        "#Xception"
      ]
    },
    {
      "cell_type": "code",
      "metadata": {
        "id": "qoueKVROKZLS"
      },
      "source": [
        "import keras\r\n",
        "modelX = keras.applications.xception.Xception(weights='imagenet')"
      ],
      "execution_count": null,
      "outputs": []
    },
    {
      "cell_type": "code",
      "metadata": {
        "id": "xjyWURuiK2zA"
      },
      "source": [
        "imagepath = '/content/drive/app/rsz_namibia_will_burrard_lucas_wwf_us_1.jpg'\r\n",
        "img = image.load_img(imagepath, target_size=(299,299))\r\n",
        "x = image.img_to_array(img)\r\n",
        "x = np.expand_dims(x, axis=0)\r\n",
        "x = preprocess_input(x)\r\n",
        "preds = modelX.predict(x)\r\n",
        "decode_predictions(preds)"
      ],
      "execution_count": null,
      "outputs": []
    },
    {
      "cell_type": "markdown",
      "metadata": {
        "id": "O82LmyqMLZuG"
      },
      "source": [
        "#VGG16"
      ]
    },
    {
      "cell_type": "code",
      "metadata": {
        "id": "63SYDBOZLdXJ"
      },
      "source": [
        "modelVGG = keras.applications.vgg16.VGG16(weights='imagenet')"
      ],
      "execution_count": null,
      "outputs": []
    },
    {
      "cell_type": "code",
      "metadata": {
        "id": "ZNP0WxVlLtag"
      },
      "source": [
        "imagepath = '/content/drive/app/rsz_namibia_will_burrard_lucas_wwf_us_1.jpg'\r\n",
        "img = image.load_img(imagepath, target_size=(224,224))\r\n",
        "x = image.img_to_array(img)\r\n",
        "x = np.expand_dims(x, axis=0)\r\n",
        "x = preprocess_input(x)\r\n",
        "preds = modelVGG.predict(x)\r\n",
        "decode_predictions(preds)"
      ],
      "execution_count": null,
      "outputs": []
    },
    {
      "cell_type": "markdown",
      "metadata": {
        "id": "FPxj1gsTMHwF"
      },
      "source": [
        "#VGG19"
      ]
    },
    {
      "cell_type": "code",
      "metadata": {
        "id": "32tjyPO4MJWI"
      },
      "source": [
        "modelVGG19 = keras.applications.vgg19.VGG19(weights='imagenet')"
      ],
      "execution_count": null,
      "outputs": []
    },
    {
      "cell_type": "code",
      "metadata": {
        "id": "XbV_c7U0MZ8Z"
      },
      "source": [
        "imagepath = '/content/drive/app/rsz_namibia_will_burrard_lucas_wwf_us_1.jpg'\r\n",
        "img = image.load_img(imagepath, target_size=(224,224))\r\n",
        "x = image.img_to_array(img)\r\n",
        "x = np.expand_dims(x, axis=0)\r\n",
        "x = preprocess_input(x)\r\n",
        "preds = modelVGG19.predict(x)\r\n",
        "decode_predictions(preds)"
      ],
      "execution_count": null,
      "outputs": []
    },
    {
      "cell_type": "markdown",
      "metadata": {
        "id": "e_10keX5MtBZ"
      },
      "source": [
        "#ResNet101"
      ]
    },
    {
      "cell_type": "code",
      "metadata": {
        "id": "c8RexMvGMvVh"
      },
      "source": [
        "model101 = keras.applications.resnet.ResNet101(weights='imagenet')"
      ],
      "execution_count": null,
      "outputs": []
    },
    {
      "cell_type": "code",
      "metadata": {
        "id": "EDeWbUUjM8Hl"
      },
      "source": [
        "imagepath = '/content/drive/app/rsz_namibia_will_burrard_lucas_wwf_us_1.jpg'\r\n",
        "img = image.load_img(imagepath, target_size=(224,224))\r\n",
        "x = image.img_to_array(img)\r\n",
        "x = np.expand_dims(x, axis=0)\r\n",
        "x = preprocess_input(x)\r\n",
        "preds = model101.predict(x)\r\n",
        "decode_predictions(preds)"
      ],
      "execution_count": null,
      "outputs": []
    },
    {
      "cell_type": "markdown",
      "metadata": {
        "id": "AVh5xggMNHxj"
      },
      "source": [
        "#Resnet152"
      ]
    },
    {
      "cell_type": "code",
      "metadata": {
        "id": "dpfzLW4eNJL8"
      },
      "source": [
        "model152 = keras.applications.resnet.ResNet152(weights='imagenet')"
      ],
      "execution_count": null,
      "outputs": []
    },
    {
      "cell_type": "code",
      "metadata": {
        "id": "ATzLzjZfNkOY"
      },
      "source": [
        "imagepath = '/content/drive/app/rsz_namibia_will_burrard_lucas_wwf_us_1.jpg'\r\n",
        "img = image.load_img(imagepath, target_size=(224,224))\r\n",
        "x = image.img_to_array(img)\r\n",
        "x = np.expand_dims(x, axis=0)\r\n",
        "x = preprocess_input(x)\r\n",
        "preds = model152.predict(x)\r\n",
        "decode_predictions(preds)"
      ],
      "execution_count": null,
      "outputs": []
    },
    {
      "cell_type": "markdown",
      "metadata": {
        "id": "Mw_DYUgTNzHP"
      },
      "source": [
        "#Resnetversion2_50"
      ]
    },
    {
      "cell_type": "code",
      "metadata": {
        "id": "l11VREXmN6P1"
      },
      "source": [
        "model50 = keras.applications.resnet_v2.ResNet50V2(weights='imagenet')"
      ],
      "execution_count": null,
      "outputs": []
    },
    {
      "cell_type": "code",
      "metadata": {
        "id": "Gj6ThH33ODhF"
      },
      "source": [
        "imagepath = '/content/drive/app/rsz_namibia_will_burrard_lucas_wwf_us_1.jpg'\r\n",
        "img = image.load_img(imagepath, target_size=(224,224))\r\n",
        "x = image.img_to_array(img)\r\n",
        "x = np.expand_dims(x, axis=0)\r\n",
        "x = preprocess_input(x)\r\n",
        "preds = model50.predict(x)\r\n",
        "decode_predictions(preds)"
      ],
      "execution_count": null,
      "outputs": []
    },
    {
      "cell_type": "markdown",
      "metadata": {
        "id": "Rzk007fiONha"
      },
      "source": [
        "#Resnet_v2_101"
      ]
    },
    {
      "cell_type": "code",
      "metadata": {
        "id": "imvaVK6uOPgL"
      },
      "source": [
        "resnet101 = keras.applications.resnet_v2.ResNet101V2(weights='imagenet')"
      ],
      "execution_count": null,
      "outputs": []
    },
    {
      "cell_type": "code",
      "metadata": {
        "id": "0cxtBkPmOX2i"
      },
      "source": [
        "imagepath = '/content/drive/app/rsz_namibia_will_burrard_lucas_wwf_us_1.jpg'\r\n",
        "img = image.load_img(imagepath, target_size=(224,224))\r\n",
        "x = image.img_to_array(img)\r\n",
        "x = np.expand_dims(x, axis=0)\r\n",
        "x = preprocess_input(x)\r\n",
        "preds = resnet101.predict(x)\r\n",
        "decode_predictions(preds)"
      ],
      "execution_count": null,
      "outputs": []
    },
    {
      "cell_type": "markdown",
      "metadata": {
        "id": "Sd1CM8vVOhTR"
      },
      "source": [
        "#Resnet_version2_152"
      ]
    },
    {
      "cell_type": "code",
      "metadata": {
        "id": "PxrIqI1fOjq3"
      },
      "source": [
        "resnet152 = keras.applications.resnet_v2.ResNet152V2(weights='imagenet')"
      ],
      "execution_count": null,
      "outputs": []
    },
    {
      "cell_type": "code",
      "metadata": {
        "id": "HDuGsva8PPI5"
      },
      "source": [
        "imagepath = '/content/drive/app/rsz_namibia_will_burrard_lucas_wwf_us_1.jpg'\r\n",
        "img = image.load_img(imagepath, target_size=(224,224))\r\n",
        "x = image.img_to_array(img)\r\n",
        "x = np.expand_dims(x, axis=0)\r\n",
        "x = preprocess_input(x)\r\n",
        "preds = resnet152.predict(x)\r\n",
        "decode_predictions(preds)"
      ],
      "execution_count": null,
      "outputs": []
    },
    {
      "cell_type": "markdown",
      "metadata": {
        "id": "0UiBHwBYPUN4"
      },
      "source": [
        "#Inceptionv3"
      ]
    },
    {
      "cell_type": "code",
      "metadata": {
        "id": "u4aHOvAPPX5l"
      },
      "source": [
        "incept = keras.applications.inception_v3.InceptionV3(weights='imagenet')"
      ],
      "execution_count": null,
      "outputs": []
    },
    {
      "cell_type": "code",
      "metadata": {
        "id": "IU9HcXiJPhbx"
      },
      "source": [
        "imagepath = '/content/drive/app/rsz_namibia_will_burrard_lucas_wwf_us_1.jpg'\r\n",
        "img = image.load_img(imagepath, target_size=(299,299))\r\n",
        "x = image.img_to_array(img)\r\n",
        "x = np.expand_dims(x, axis=0)\r\n",
        "x = preprocess_input(x)\r\n",
        "preds = incept.predict(x)\r\n",
        "decode_predictions(preds)"
      ],
      "execution_count": null,
      "outputs": []
    },
    {
      "cell_type": "markdown",
      "metadata": {
        "id": "7oK9YNtdPt3g"
      },
      "source": [
        "#inceptionresnet"
      ]
    },
    {
      "cell_type": "code",
      "metadata": {
        "id": "Y8-PfiVaPwXY"
      },
      "source": [
        "inres = keras.applications.inception_resnet_v2.InceptionResNetV2(weights='imagenet')"
      ],
      "execution_count": null,
      "outputs": []
    },
    {
      "cell_type": "code",
      "metadata": {
        "id": "muaHprIZP8Uq"
      },
      "source": [
        "imagepath = '/content/drive/app/rsz_namibia_will_burrard_lucas_wwf_us_1.jpg'\r\n",
        "img = image.load_img(imagepath, target_size=(299,299))\r\n",
        "x = image.img_to_array(img)\r\n",
        "x = np.expand_dims(x, axis=0)\r\n",
        "x = preprocess_input(x)\r\n",
        "preds = inres.predict(x)\r\n",
        "decode_predictions(preds)"
      ],
      "execution_count": null,
      "outputs": []
    },
    {
      "cell_type": "markdown",
      "metadata": {
        "id": "GnJE8E6jXDt9"
      },
      "source": [
        "#MobileNet\n",
        "\n"
      ]
    },
    {
      "cell_type": "code",
      "metadata": {
        "id": "80u7KSmVXECp"
      },
      "source": [
        "model_Mob = keras.applications.mobilenet.MobileNet(weights='imagenet')"
      ],
      "execution_count": null,
      "outputs": []
    },
    {
      "cell_type": "code",
      "metadata": {
        "id": "DNSfIR70XELZ"
      },
      "source": [
        "img_path = 'drive/app/rsz_namibia_will_burrard_lucas_wwf_us_1.jpg'\n",
        "img = image.load_img(img_path, target_size=(224, 224))\n",
        "x = image.img_to_array(img)\n",
        "x = np.expand_dims(x, axis=0)\n",
        "x = preprocess_input(x)\n",
        "preds = model_Mob.predict(x)\n",
        "decode_predictions(preds)"
      ],
      "execution_count": null,
      "outputs": []
    },
    {
      "cell_type": "markdown",
      "metadata": {
        "id": "--eTc-8jXSO9"
      },
      "source": [
        "#DenseNet\n",
        "\n"
      ]
    },
    {
      "cell_type": "code",
      "metadata": {
        "id": "vq1zltK1XWWa"
      },
      "source": [
        "model_Dense121 = keras.applications.densenet.DenseNet121(include_top=True, weights='imagenet', input_tensor=None, input_shape=None, pooling=None, classes=1000)\n",
        "model_Dense169 = keras.applications.densenet.DenseNet169(include_top=True, weights='imagenet', input_tensor=None, input_shape=None, pooling=None, classes=1000)\n",
        "model_Dense201 = keras.applications.densenet.DenseNet201(include_top=True, weights='imagenet', input_tensor=None, input_shape=None, pooling=None, classes=1000)"
      ],
      "execution_count": null,
      "outputs": []
    },
    {
      "cell_type": "code",
      "metadata": {
        "id": "y8O3DmArXd_Q"
      },
      "source": [
        "img_path = 'drive/app/rsz_namibia_will_burrard_lucas_wwf_us_1.jpg'\n",
        "img = image.load_img(img_path, target_size=(224, 224))\n",
        "x = image.img_to_array(img)\n",
        "x = np.expand_dims(x, axis=0)\n",
        "x = preprocess_input(x)\n",
        "\n",
        "\n",
        "\n",
        "preds = model_Dense121.predict(x)\n",
        "# decode the results into a list of tuples (class, description, probability)\n",
        "# (one such list for each sample in the batch)\n",
        "print('Predicted:', decode_predictions(preds, top=3)[0])\n",
        "\n",
        "preds = model_Dense169.predict(x)\n",
        "# decode the results into a list of tuples (class, description, probability)\n",
        "# (one such list for each sample in the batch)\n",
        "print('Predicted:', decode_predictions(preds, top=3)[0])\n",
        "\n",
        "preds = model_Dense201.predict(x)\n",
        "# decode the results into a list of tuples (class, description, probability)\n",
        "# (one such list for each sample in the batch)\n",
        "print('Predicted:', decode_predictions(preds, top=3)[0])"
      ],
      "execution_count": null,
      "outputs": []
    },
    {
      "cell_type": "markdown",
      "metadata": {
        "id": "ClEOZAj2Xlix"
      },
      "source": [
        "#NASNet\n",
        "\n"
      ]
    },
    {
      "cell_type": "code",
      "metadata": {
        "id": "1oc1-XWZXqIB"
      },
      "source": [
        "model_NASLarge = keras.applications.nasnet.NASNetLarge(input_shape=None, include_top=True, weights='imagenet', input_tensor=None, pooling=None, classes=1000)\n",
        "model_NASMobile = keras.applications.nasnet.NASNetMobile(input_shape=None, include_top=True, weights='imagenet', input_tensor=None, pooling=None, classes=1000)"
      ],
      "execution_count": null,
      "outputs": []
    },
    {
      "cell_type": "code",
      "metadata": {
        "id": "8Cml-WgEXxox"
      },
      "source": [
        "img_path = 'drive/app/rsz_namibia_will_burrard_lucas_wwf_us_1.jpg'\n",
        "img = image.load_img(img_path, target_size=(331,331))\n",
        "x = image.img_to_array(img)\n",
        "x = np.expand_dims(x, axis=0)\n",
        "x = preprocess_input(x)\n",
        "\n",
        "\n",
        "\n",
        "preds = model_NASLarge.predict(x)\n",
        "# decode the results into a list of tuples (class, description, probability)\n",
        "# (one such list for each sample in the batch)\n",
        "print('Predicted:', decode_predictions(preds, top=3)[0])\n"
      ],
      "execution_count": null,
      "outputs": []
    },
    {
      "cell_type": "markdown",
      "metadata": {
        "id": "8Z13Y1ntX4gH"
      },
      "source": [
        "#MobileNetV2\n",
        "\n"
      ]
    },
    {
      "cell_type": "code",
      "metadata": {
        "id": "Omv3GshkX7sw"
      },
      "source": [
        "model_MobV2 = keras.applications.mobilenet_v2.MobileNetV2(input_shape=None, alpha=1.0, include_top=True, weights='imagenet', input_tensor=None, pooling=None, classes=1000)"
      ],
      "execution_count": null,
      "outputs": []
    },
    {
      "cell_type": "code",
      "metadata": {
        "id": "5FT7--cOX-Mu"
      },
      "source": [
        "img_path = 'drive/app/rsz_namibia_will_burrard_lucas_wwf_us_1.jpg'\n",
        "img = image.load_img(img_path, target_size=(224, 224))\n",
        "x = image.img_to_array(img)\n",
        "x = np.expand_dims(x, axis=0)\n",
        "x = preprocess_input(x)\n",
        "\n",
        "\n",
        "\n",
        "preds = model_MobV2.predict(x)\n",
        "# decode the results into a list of tuples (class, description, probability)\n",
        "# (one such list for each sample in the batch)\n",
        "print('Predicted:', decode_predictions(preds, top=3)[0])"
      ],
      "execution_count": null,
      "outputs": []
    }
  ]
}