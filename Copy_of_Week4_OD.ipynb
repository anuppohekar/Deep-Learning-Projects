{
  "nbformat": 4,
  "nbformat_minor": 0,
  "metadata": {
    "colab": {
      "name": "Copy of Week4_OD.ipynb",
      "private_outputs": true,
      "provenance": [],
      "include_colab_link": true
    },
    "kernelspec": {
      "name": "python3",
      "display_name": "Python 3"
    },
    "accelerator": "GPU"
  },
  "cells": [
    {
      "cell_type": "markdown",
      "metadata": {
        "id": "view-in-github",
        "colab_type": "text"
      },
      "source": [
        "<a href=\"https://colab.research.google.com/github/anuppohekar/Deep-Learning-Projects/blob/main/Copy_of_Week4_OD.ipynb\" target=\"_parent\"><img src=\"https://colab.research.google.com/assets/colab-badge.svg\" alt=\"Open In Colab\"/></a>"
      ]
    },
    {
      "cell_type": "markdown",
      "metadata": {
        "id": "ukFBA0kWYWWv"
      },
      "source": [
        "#Check CUDA release version"
      ]
    },
    {
      "cell_type": "code",
      "metadata": {
        "id": "vC0tIOy0hjWc"
      },
      "source": [
        "!/usr/local/cuda/bin/nvcc --version\n",
        "\n",
        "\n",
        "!wget http://people.cs.uchicago.edu/~kauffman/nvidia/cudnn/cudnn-10.2-linux-x64-v7.6.5.32.tgz \n",
        "\n",
        "\n",
        "# We're unzipping the cuDNN files from your Drive folder directly to the VM CUDA folders\n",
        "!tar -xvzf /content/cudnn-10.2-linux-x64-v7.6.5.32.tgz\n",
        "!chmod a+r /content/cuda/include/cudnn.h\n",
        "!cat /content/cuda/include/cudnn.h | grep CUDNN_MAJOR -A 2"
      ],
      "execution_count": null,
      "outputs": []
    },
    {
      "cell_type": "markdown",
      "metadata": {
        "id": "JNlEEOWRH71L"
      },
      "source": [
        "#Detection Using A Pre-Trained Model"
      ]
    },
    {
      "cell_type": "code",
      "metadata": {
        "id": "uaSWqXZ2NFoC"
      },
      "source": [
        "import os\n",
        "from os.path import exists, join, basename, splitext\n",
        "\n",
        "git_repo_url = 'https://github.com/pjreddie/darknet'\n",
        "project_name = splitext(basename(git_repo_url))[0]\n",
        "if not exists(project_name):\n",
        "  # clone and install dependencies\n",
        "  !git clone -q $git_repo_url\n",
        "  #!cd $project_name && pip install -q -r requirement.txt\n",
        "\n",
        "\n"
      ],
      "execution_count": null,
      "outputs": []
    },
    {
      "cell_type": "code",
      "metadata": {
        "id": "Y64rpe4QPxaG"
      },
      "source": [
        "%cd /content/darknet/\n"
      ],
      "execution_count": null,
      "outputs": []
    },
    {
      "cell_type": "code",
      "metadata": {
        "id": "VVxqrSAmCRko"
      },
      "source": [
        "#Compile Darknet\n",
        "!make"
      ],
      "execution_count": null,
      "outputs": []
    },
    {
      "cell_type": "markdown",
      "metadata": {
        "id": "d4wEK-hNN5xK"
      },
      "source": [
        "#Download the Yolo darknet. "
      ]
    },
    {
      "cell_type": "code",
      "metadata": {
        "id": "5UMSqUrwN-sU"
      },
      "source": [
        "!wget https://pjreddie.com/media/files/yolov3.weights\n",
        "\n"
      ],
      "execution_count": null,
      "outputs": []
    },
    {
      "cell_type": "markdown",
      "metadata": {
        "id": "cmBs98RchQHq"
      },
      "source": [
        "#Applying on image"
      ]
    },
    {
      "cell_type": "code",
      "metadata": {
        "id": "57D7AS8LOikQ"
      },
      "source": [
        "!./darknet detect cfg/yolov3.cfg yolov3.weights data/dog.jpg"
      ],
      "execution_count": null,
      "outputs": []
    },
    {
      "cell_type": "markdown",
      "metadata": {
        "id": "pLbpkUGLmfsu"
      },
      "source": [
        "#YOLOv3 - YOU ONLY LOOK ONCE VERSION 3"
      ]
    },
    {
      "cell_type": "markdown",
      "metadata": {
        "id": "ICgX0qNxmth5"
      },
      "source": [
        "#Apply"
      ]
    },
    {
      "cell_type": "code",
      "metadata": {
        "id": "VV4J76mMmwKW"
      },
      "source": [
        "!./darknet detect cfg/yolov3.cfg yolov3.weights data/eagle.jpg"
      ],
      "execution_count": null,
      "outputs": []
    },
    {
      "cell_type": "code",
      "metadata": {
        "id": "BWSZmptVoFYd"
      },
      "source": [
        "!./darknet detect cfg/yolov3.cfg yolov3.weights data/giraffe.jpg"
      ],
      "execution_count": null,
      "outputs": []
    },
    {
      "cell_type": "code",
      "metadata": {
        "id": "BvqBMRlpodNn"
      },
      "source": [
        "!./darknet detect cfg/yolov3.cfg yolov3.weights data/giraffe.jpg -dont-show"
      ],
      "execution_count": null,
      "outputs": []
    },
    {
      "cell_type": "code",
      "metadata": {
        "id": "NpwzKusqo8Vf"
      },
      "source": [
        "!./darknet detect cfg/yolov3.cfg yolov3.weights data/person.jpg"
      ],
      "execution_count": null,
      "outputs": []
    },
    {
      "cell_type": "markdown",
      "metadata": {
        "id": "ej6N8ZSipaWo"
      },
      "source": [
        "#Download weights of YOLOv3 TINY"
      ]
    },
    {
      "cell_type": "code",
      "metadata": {
        "id": "1NlSo346pecB"
      },
      "source": [
        "!wget https://pjreddie.com/media/files/yolov3-tiny.weights"
      ],
      "execution_count": null,
      "outputs": []
    },
    {
      "cell_type": "code",
      "metadata": {
        "id": "avOImyQZprG5"
      },
      "source": [
        "!./darknet detect cfg/yolov3-tiny.cfg yolov3-tiny.weights data/person.jpg"
      ],
      "execution_count": null,
      "outputs": []
    }
  ]
}