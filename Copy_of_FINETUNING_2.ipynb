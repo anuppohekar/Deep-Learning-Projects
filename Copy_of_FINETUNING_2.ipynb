{
  "nbformat": 4,
  "nbformat_minor": 0,
  "metadata": {
    "colab": {
      "name": "Copy of FINETUNING-2.ipynb",
      "private_outputs": true,
      "provenance": [],
      "collapsed_sections": [],
      "include_colab_link": true
    },
    "kernelspec": {
      "name": "python3",
      "display_name": "Python 3"
    },
    "accelerator": "GPU"
  },
  "cells": [
    {
      "cell_type": "markdown",
      "metadata": {
        "id": "view-in-github",
        "colab_type": "text"
      },
      "source": [
        "<a href=\"https://colab.research.google.com/github/anuppohekar/Deep-Learning-Projects/blob/main/Copy_of_FINETUNING_2.ipynb\" target=\"_parent\"><img src=\"https://colab.research.google.com/assets/colab-badge.svg\" alt=\"Open In Colab\"/></a>"
      ]
    },
    {
      "cell_type": "markdown",
      "metadata": {
        "id": "A5y4_k1HDmq2"
      },
      "source": [
        "#LIBRARIES"
      ]
    },
    {
      "cell_type": "code",
      "metadata": {
        "id": "zXq9z_pxDFeH"
      },
      "source": [
        "from keras.applications.resnet50 import ResNet50\r\n",
        "from keras.preprocessing import image\r\n",
        "from keras.applications.resnet50 import preprocess_input, decode_predictions\r\n",
        "import numpy as np"
      ],
      "execution_count": null,
      "outputs": []
    },
    {
      "cell_type": "markdown",
      "metadata": {
        "id": "rvvtJsCxDok4"
      },
      "source": [
        "#INCLUDE MODEL"
      ]
    },
    {
      "cell_type": "code",
      "metadata": {
        "id": "-pcR714NDl4V"
      },
      "source": [
        "from keras.layers import Input\r\n",
        "oldmodel = ResNet50(weights='imagenet', include_top=False, input_tensor=Input(shape=(32,32,3)))"
      ],
      "execution_count": null,
      "outputs": []
    },
    {
      "cell_type": "markdown",
      "metadata": {
        "id": "c8VG9sZvErMa"
      },
      "source": [
        "#ADD NEW TOP LAYER / ADD NEW FINAL LAYER"
      ]
    },
    {
      "cell_type": "code",
      "metadata": {
        "id": "zrGFk0G0EwBS"
      },
      "source": [
        "from keras.models import Sequential\r\n",
        "from keras.layers import Dense, Flatten\r\n",
        "\r\n",
        "topmodel = Sequential()\r\n",
        "topmodel.add(Flatten())\r\n",
        "topmodel.add(Dense(units=128, activation='relu'))\r\n",
        "topmodel.add(Dense(units=10, activation='softmax'))"
      ],
      "execution_count": null,
      "outputs": []
    },
    {
      "cell_type": "markdown",
      "metadata": {
        "id": "v-_qQYkJFSRd"
      },
      "source": [
        "#COMBINE OLD MODEL WITH NEW TOP LAYER"
      ]
    },
    {
      "cell_type": "code",
      "metadata": {
        "id": "E4vj7QEhFYzA"
      },
      "source": [
        "from keras.models import Model \r\n",
        "finalmodel = Model(inputs = oldmodel.input, outputs = topmodel(oldmodel.output))"
      ],
      "execution_count": null,
      "outputs": []
    },
    {
      "cell_type": "markdown",
      "metadata": {
        "id": "LF5lajB_G4CF"
      },
      "source": [
        "#MAKE  OLD MODEL NON TRAINABLE"
      ]
    },
    {
      "cell_type": "code",
      "metadata": {
        "id": "HK1HMnRuG6op"
      },
      "source": [
        "for layer in oldmodel.layers:\r\n",
        "  layer.trainable=False"
      ],
      "execution_count": null,
      "outputs": []
    },
    {
      "cell_type": "code",
      "metadata": {
        "id": "h5Rs47Plm-R_"
      },
      "source": [
        "finalmodel.summary()"
      ],
      "execution_count": null,
      "outputs": []
    },
    {
      "cell_type": "markdown",
      "metadata": {
        "id": "OYfHECW2HHg2"
      },
      "source": [
        "#COMPILE AND FIT"
      ]
    },
    {
      "cell_type": "code",
      "metadata": {
        "id": "ydUHBVVdHfwK"
      },
      "source": [
        "from keras.datasets import cifar10\r\n",
        "\r\n",
        "(x_train, y_train), (x_test, y_test) = cifar10.load_data()"
      ],
      "execution_count": null,
      "outputs": []
    },
    {
      "cell_type": "code",
      "metadata": {
        "id": "11131AoPHpNC"
      },
      "source": [
        "from keras.utils import to_categorical\r\n",
        "y_train = to_categorical(y_train)\r\n",
        "y_test = to_categorical(y_test)"
      ],
      "execution_count": null,
      "outputs": []
    },
    {
      "cell_type": "markdown",
      "metadata": {
        "id": "Z3DHJevnIXJi"
      },
      "source": [
        "#CALLBACKS"
      ]
    },
    {
      "cell_type": "code",
      "metadata": {
        "id": "dQhvuM1GqsZi"
      },
      "source": [
        "from keras.callbacks import EarlyStopping, ModelCheckpoint, ReduceLROnPlateau\r\n",
        "es = EarlyStopping(monitor='val_loss', patience=5, verbose=1, mode='auto')\r\n",
        "filepath=\"bestweight.h5\"\r\n",
        "mc = ModelCheckpoint(filepath, monitor='val_loss', verbose=1, save_best_only=True, mode='auto')\r\n",
        "rd = ReduceLROnPlateau(monitor='val_loss', factor=0.1, patience=10, verbose=0, mode='auto')"
      ],
      "execution_count": null,
      "outputs": []
    },
    {
      "cell_type": "code",
      "metadata": {
        "id": "xts9YwR_HJTx"
      },
      "source": [
        "import keras\r\n",
        "opt = keras.optimizers.Adam(learning_rate=1e-4)\r\n",
        "finalmodel.compile(loss='categorical_crossentropy', optimizer=opt, metrics=['accuracy'], callbacks=[es, mc, rd])\r\n",
        "\r\n",
        "finalmodel.fit(x=x_train, y=y_train, epochs=10, validation_split=0.2)"
      ],
      "execution_count": null,
      "outputs": []
    },
    {
      "cell_type": "code",
      "metadata": {
        "id": "PqQfw7S8qZ_v"
      },
      "source": [
        "finalmodel.evaluate(x_test, y_test)"
      ],
      "execution_count": null,
      "outputs": []
    },
    {
      "cell_type": "markdown",
      "metadata": {
        "id": "ot_bCpNnn0Ce"
      },
      "source": [
        "#Check pretrained model versus fine tuned model"
      ]
    },
    {
      "cell_type": "code",
      "metadata": {
        "id": "18eJBVSQn3sd"
      },
      "source": [
        "from keras.layers import Input\r\n",
        "pre_trained_model = ResNet50(weights='imagenet', include_top=False, input_tensor=Input(shape=(32,32,3)))"
      ],
      "execution_count": null,
      "outputs": []
    },
    {
      "cell_type": "markdown",
      "metadata": {
        "id": "RRzHadtjoXl9"
      },
      "source": [
        "#Add new top layer"
      ]
    },
    {
      "cell_type": "code",
      "metadata": {
        "id": "oTS5hdGKofF_"
      },
      "source": [
        "from keras.models import Sequential\r\n",
        "from keras.layers import Dense, Flatten\r\n",
        "\r\n",
        "topmodel = Sequential()\r\n",
        "topmodel.add(Flatten())\r\n",
        "topmodel.add(Dense(units=10, activation='softmax'))"
      ],
      "execution_count": null,
      "outputs": []
    },
    {
      "cell_type": "markdown",
      "metadata": {
        "id": "B8yT_4qkofGC"
      },
      "source": [
        "#COMBINE OLD MODEL WITH NEW TOP LAYER"
      ]
    },
    {
      "cell_type": "code",
      "metadata": {
        "id": "SvUXL9dXofGD"
      },
      "source": [
        "from keras.models import Model \r\n",
        "finalmodel2 = Model(inputs = pre_trained_model.input, outputs = topmodel(pre_trained_model.output))"
      ],
      "execution_count": null,
      "outputs": []
    },
    {
      "cell_type": "code",
      "metadata": {
        "id": "5PUcnbH1o5g0"
      },
      "source": [
        "finalmodel2.compile(loss='categorical_crossentropy', optimizer='adam', metrics=['accuracy'])"
      ],
      "execution_count": null,
      "outputs": []
    },
    {
      "cell_type": "code",
      "metadata": {
        "id": "9JCjBFqNoHaJ"
      },
      "source": [
        "finalmodel2.evaluate(x_test, y_test)"
      ],
      "execution_count": null,
      "outputs": []
    }
  ]
}